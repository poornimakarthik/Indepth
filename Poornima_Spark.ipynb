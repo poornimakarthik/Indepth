{
 "cells": [
  {
   "cell_type": "code",
   "execution_count": 1,
   "metadata": {},
   "outputs": [],
   "source": [
    "#Environment setup\n",
    "import os\n",
    "import sys\n",
    " \n",
    "os.environ[\"SPARK_HOME\"] = \"/usr/hdp/current/spark2-client\"\n",
    "os.environ[\"PYLIB\"] = os.environ[\"SPARK_HOME\"] + \"/python/lib\"\n",
    "# In below two lines, use /usr/bin/python2.7 if you want to use Python 2\n",
    "os.environ[\"PYSPARK_PYTHON\"] = \"/usr/local/anaconda/bin/python\" \n",
    "os.environ[\"PYSPARK_DRIVER_PYTHON\"] = \"/usr/local/anaconda/bin/python\"\n",
    "sys.path.insert(0, os.environ[\"PYLIB\"] +\"/py4j-0.10.4-src.zip\")\n",
    "sys.path.insert(0, os.environ[\"PYLIB\"] +\"/pyspark.zip\")"
   ]
  },
  {
   "cell_type": "code",
   "execution_count": 2,
   "metadata": {},
   "outputs": [],
   "source": [
    "#SparkSession is the driver engine of the whole program\n",
    "from pyspark.sql import SparkSession\n",
    "spark = SparkSession.builder.getOrCreate()"
   ]
  },
  {
   "cell_type": "code",
   "execution_count": 3,
   "metadata": {},
   "outputs": [],
   "source": [
    "#read.csv will create a Spark DataFrame\n",
    "items = spark.read.csv('data/items_Question6.csv',inferSchema=True,header=True)"
   ]
  },
  {
   "cell_type": "code",
   "execution_count": 5,
   "metadata": {},
   "outputs": [
    {
     "name": "stdout",
     "output_type": "stream",
     "text": [
      "+-------+---------+---------------+\n",
      "|item_id|item_name|item_unit_price|\n",
      "+-------+---------+---------------+\n",
      "|    101| Pendrive|          25.49|\n",
      "|    102|   Laptop|         999.99|\n",
      "|    103|Headphone|          99.99|\n",
      "|    201|  Charger|          45.99|\n",
      "|    202| Cable-1m|          12.99|\n",
      "|    203|       OS|         299.99|\n",
      "+-------+---------+---------------+\n",
      "\n"
     ]
    }
   ],
   "source": [
    "items.show()"
   ]
  },
  {
   "cell_type": "code",
   "execution_count": 6,
   "metadata": {},
   "outputs": [],
   "source": [
    "orders = spark.read.csv('data/orders_Question6.csv',inferSchema=True,header=True)"
   ]
  },
  {
   "cell_type": "code",
   "execution_count": 7,
   "metadata": {},
   "outputs": [
    {
     "name": "stdout",
     "output_type": "stream",
     "text": [
      "+--------+--------------------+-----------+------------+\n",
      "|order_id|          order_date|customer_id|order_status|\n",
      "+--------+--------------------+-----------+------------+\n",
      "|   10001|2019-07-05 13:25:...|       2101|        Paid|\n",
      "|   10002|2019-07-05 23:15:...|       2103|        Paid|\n",
      "|   10003|2019-07-09 10:21:...|       2101|        Paid|\n",
      "|   10004|2019-07-15 17:51:...|       2102|        Paid|\n",
      "+--------+--------------------+-----------+------------+\n",
      "\n"
     ]
    }
   ],
   "source": [
    "orders.show()"
   ]
  },
  {
   "cell_type": "code",
   "execution_count": 8,
   "metadata": {},
   "outputs": [],
   "source": [
    "order_items = spark.read.csv('data/order_items_Question6.csv',inferSchema=True,header=True)"
   ]
  },
  {
   "cell_type": "code",
   "execution_count": 9,
   "metadata": {},
   "outputs": [
    {
     "name": "stdout",
     "output_type": "stream",
     "text": [
      "+--------------+--------+-------+--------+\n",
      "|order_items_id|order_id|item_id|quantity|\n",
      "+--------------+--------+-------+--------+\n",
      "|        100001|   10001|    201|       3|\n",
      "|        100002|   10001|    102|       1|\n",
      "|        100003|   10002|    101|       4|\n",
      "|        100004|   10002|    103|       2|\n",
      "|        100005|   10003|    201|       3|\n",
      "|        100006|   10004|    202|       5|\n",
      "+--------------+--------+-------+--------+\n",
      "\n"
     ]
    }
   ],
   "source": [
    "order_items.show()"
   ]
  },
  {
   "cell_type": "markdown",
   "metadata": {},
   "source": [
    "## a.\tCreate the views orders_items, orders and items from the respective csv files. "
   ]
  },
  {
   "cell_type": "code",
   "execution_count": 10,
   "metadata": {},
   "outputs": [],
   "source": [
    "items.createOrReplaceTempView('itemsview')"
   ]
  },
  {
   "cell_type": "code",
   "execution_count": 11,
   "metadata": {},
   "outputs": [],
   "source": [
    "orders.createOrReplaceTempView('ordersview')"
   ]
  },
  {
   "cell_type": "code",
   "execution_count": 12,
   "metadata": {},
   "outputs": [],
   "source": [
    "order_items.createOrReplaceTempView('order_itemsview')"
   ]
  },
  {
   "cell_type": "markdown",
   "metadata": {},
   "source": [
    "## b.\tCount the number of orders per customer_id from the orders view"
   ]
  },
  {
   "cell_type": "code",
   "execution_count": 16,
   "metadata": {},
   "outputs": [
    {
     "name": "stdout",
     "output_type": "stream",
     "text": [
      "+-----------+--------------+\n",
      "|customer_id|NumberOfOrders|\n",
      "+-----------+--------------+\n",
      "|       2102|             1|\n",
      "|       2103|             2|\n",
      "|       2101|             3|\n",
      "+-----------+--------------+\n",
      "\n"
     ]
    }
   ],
   "source": [
    "spark.sql('''\n",
    "             select oi.customer_id,count(ot.order_id) as NumberOfOrders from order_itemsview  as ot\n",
    "             join ordersview as oi on ot.order_id = oi.order_id\n",
    "             group by oi.customer_id\n",
    "             ''').show()"
   ]
  },
  {
   "cell_type": "code",
   "execution_count": 22,
   "metadata": {},
   "outputs": [
    {
     "name": "stdout",
     "output_type": "stream",
     "text": [
      "+---------+--------------+\n",
      "|item_name|NumberOfOrders|\n",
      "+---------+--------------+\n",
      "|Headphone|             1|\n",
      "| Pendrive|             1|\n",
      "|   Laptop|             1|\n",
      "|  Charger|             2|\n",
      "| Cable-1m|             1|\n",
      "+---------+--------------+\n",
      "\n"
     ]
    }
   ],
   "source": [
    "spark.sql('''\n",
    "             select it.item_name,count(ot.order_id) as NumberOfOrders from order_itemsview  as ot\n",
    "             join itemsview as it on ot.item_id = it.item_id\n",
    "             group by it.item_name\n",
    "             ''').show()"
   ]
  },
  {
   "cell_type": "markdown",
   "metadata": {},
   "source": [
    "## c.\tFind the total amount of each order from the join of orders_items and items."
   ]
  },
  {
   "cell_type": "code",
   "execution_count": 24,
   "metadata": {},
   "outputs": [
    {
     "name": "stdout",
     "output_type": "stream",
     "text": [
      "+---------+-----------+--------------+\n",
      "|item_name|TOTALAMOUNT|NumberOfOrders|\n",
      "+---------+-----------+--------------+\n",
      "|Headphone|      99.99|             1|\n",
      "| Pendrive|      25.49|             1|\n",
      "|   Laptop|     999.99|             1|\n",
      "|  Charger|      91.98|             2|\n",
      "| Cable-1m|      12.99|             1|\n",
      "+---------+-----------+--------------+\n",
      "\n"
     ]
    }
   ],
   "source": [
    "spark.sql('''\n",
    "             select it.item_name,sum(it.item_unit_price) as TOTALAMOUNT,count(ot.order_id) as NumberOfOrders from order_itemsview  as ot\n",
    "             join itemsview as it on ot.item_id = it.item_id\n",
    "             group by it.item_name\n",
    "             ''').show()"
   ]
  },
  {
   "cell_type": "code",
   "execution_count": null,
   "metadata": {},
   "outputs": [],
   "source": []
  }
 ],
 "metadata": {
  "kernelspec": {
   "display_name": "Python 3",
   "language": "python",
   "name": "python3"
  },
  "language_info": {
   "codemirror_mode": {
    "name": "ipython",
    "version": 3
   },
   "file_extension": ".py",
   "mimetype": "text/x-python",
   "name": "python",
   "nbconvert_exporter": "python",
   "pygments_lexer": "ipython3",
   "version": "3.6.8"
  },
  "toc": {
   "base_numbering": 1,
   "nav_menu": {},
   "number_sections": true,
   "sideBar": true,
   "skip_h1_title": false,
   "title_cell": "Table of Contents",
   "title_sidebar": "Contents",
   "toc_cell": false,
   "toc_position": {},
   "toc_section_display": true,
   "toc_window_display": false
  }
 },
 "nbformat": 4,
 "nbformat_minor": 2
}
